{
 "cells": [
  {
   "cell_type": "markdown",
   "id": "d2f18b48",
   "metadata": {},
   "source": [
    "# Problem Statement"
   ]
  },
  {
   "cell_type": "markdown",
   "id": "65740f3e",
   "metadata": {},
   "source": [
    "# Linear Regression Employee Salary Prediction"
   ]
  },
  {
   "cell_type": "markdown",
   "id": "d53c1758",
   "metadata": {},
   "source": [
    "### Importing libraries"
   ]
  },
  {
   "cell_type": "code",
   "execution_count": 1,
   "id": "2155fb34",
   "metadata": {},
   "outputs": [],
   "source": [
    "import numpy as np\n",
    "import pandas as pd\n",
    "import matplotlib.pyplot as plt\n",
    "%matplotlib inline\n",
    "import seaborn as sns\n",
    "from sklearn.linear_model import LinearRegression\n",
    "from sklearn.metrics import r2_score"
   ]
  },
  {
   "cell_type": "markdown",
   "id": "0369e72b",
   "metadata": {},
   "source": [
    "### PART - 1 DATA EXPLORATION AND PRE-PROCESSING"
   ]
  },
  {
   "cell_type": "markdown",
   "id": "a6c6eb10",
   "metadata": {},
   "source": [
    "### 1 - Importing Dataset"
   ]
  },
  {
   "cell_type": "code",
   "execution_count": 2,
   "id": "3ae8b982",
   "metadata": {},
   "outputs": [
    {
     "data": {
      "text/html": [
       "<div>\n",
       "<style scoped>\n",
       "    .dataframe tbody tr th:only-of-type {\n",
       "        vertical-align: middle;\n",
       "    }\n",
       "\n",
       "    .dataframe tbody tr th {\n",
       "        vertical-align: top;\n",
       "    }\n",
       "\n",
       "    .dataframe thead th {\n",
       "        text-align: right;\n",
       "    }\n",
       "</style>\n",
       "<table border=\"1\" class=\"dataframe\">\n",
       "  <thead>\n",
       "    <tr style=\"text-align: right;\">\n",
       "      <th></th>\n",
       "      <th>experience</th>\n",
       "      <th>test_score(out of 10)</th>\n",
       "      <th>interview_score(out of 10)</th>\n",
       "      <th>salary($)</th>\n",
       "    </tr>\n",
       "  </thead>\n",
       "  <tbody>\n",
       "    <tr>\n",
       "      <th>0</th>\n",
       "      <td>NaN</td>\n",
       "      <td>8.0</td>\n",
       "      <td>9</td>\n",
       "      <td>50000</td>\n",
       "    </tr>\n",
       "    <tr>\n",
       "      <th>1</th>\n",
       "      <td>NaN</td>\n",
       "      <td>8.0</td>\n",
       "      <td>6</td>\n",
       "      <td>45000</td>\n",
       "    </tr>\n",
       "    <tr>\n",
       "      <th>2</th>\n",
       "      <td>five</td>\n",
       "      <td>6.0</td>\n",
       "      <td>7</td>\n",
       "      <td>60000</td>\n",
       "    </tr>\n",
       "    <tr>\n",
       "      <th>3</th>\n",
       "      <td>two</td>\n",
       "      <td>10.0</td>\n",
       "      <td>10</td>\n",
       "      <td>65000</td>\n",
       "    </tr>\n",
       "    <tr>\n",
       "      <th>4</th>\n",
       "      <td>seven</td>\n",
       "      <td>9.0</td>\n",
       "      <td>6</td>\n",
       "      <td>70000</td>\n",
       "    </tr>\n",
       "    <tr>\n",
       "      <th>5</th>\n",
       "      <td>three</td>\n",
       "      <td>7.0</td>\n",
       "      <td>10</td>\n",
       "      <td>62000</td>\n",
       "    </tr>\n",
       "    <tr>\n",
       "      <th>6</th>\n",
       "      <td>ten</td>\n",
       "      <td>NaN</td>\n",
       "      <td>7</td>\n",
       "      <td>72000</td>\n",
       "    </tr>\n",
       "    <tr>\n",
       "      <th>7</th>\n",
       "      <td>eleven</td>\n",
       "      <td>7.0</td>\n",
       "      <td>8</td>\n",
       "      <td>80000</td>\n",
       "    </tr>\n",
       "  </tbody>\n",
       "</table>\n",
       "</div>"
      ],
      "text/plain": [
       "  experience  test_score(out of 10)  interview_score(out of 10)  salary($)\n",
       "0        NaN                    8.0                           9      50000\n",
       "1        NaN                    8.0                           6      45000\n",
       "2       five                    6.0                           7      60000\n",
       "3        two                   10.0                          10      65000\n",
       "4      seven                    9.0                           6      70000\n",
       "5      three                    7.0                          10      62000\n",
       "6        ten                    NaN                           7      72000\n",
       "7     eleven                    7.0                           8      80000"
      ]
     },
     "execution_count": 2,
     "metadata": {},
     "output_type": "execute_result"
    }
   ],
   "source": [
    "df = pd.read_csv(r\"C:\\Users\\Vyas\\1_Assignment\\ML FT Projects\\Linear Regression\\Employee Salary Analysis\\Python_Linear_Regres.csv\")\n",
    "df"
   ]
  },
  {
   "cell_type": "code",
   "execution_count": 3,
   "id": "5c136d7f",
   "metadata": {},
   "outputs": [
    {
     "name": "stdout",
     "output_type": "stream",
     "text": [
      "Number of Rows are 8 and Number of Columns are 4\n"
     ]
    }
   ],
   "source": [
    "print(f'Number of Rows are {df.shape[0]} and Number of Columns are {df.shape[1]}')"
   ]
  },
  {
   "cell_type": "markdown",
   "id": "7d0cf3b8",
   "metadata": {},
   "source": [
    "### Finding the null values"
   ]
  },
  {
   "cell_type": "code",
   "execution_count": 4,
   "id": "a172299d",
   "metadata": {},
   "outputs": [
    {
     "data": {
      "text/plain": [
       "experience                    2\n",
       "test_score(out of 10)         1\n",
       "interview_score(out of 10)    0\n",
       "salary($)                     0\n",
       "dtype: int64"
      ]
     },
     "execution_count": 4,
     "metadata": {},
     "output_type": "execute_result"
    }
   ],
   "source": [
    "df.isnull().sum()"
   ]
  },
  {
   "cell_type": "markdown",
   "id": "eef88cdb",
   "metadata": {},
   "source": [
    "### 2 - Filling null values in experience columns with zero using numpy"
   ]
  },
  {
   "cell_type": "code",
   "execution_count": 5,
   "id": "3772fec2",
   "metadata": {},
   "outputs": [
    {
     "data": {
      "text/plain": [
       "experience                    0\n",
       "test_score(out of 10)         1\n",
       "interview_score(out of 10)    0\n",
       "salary($)                     0\n",
       "dtype: int64"
      ]
     },
     "execution_count": 5,
     "metadata": {},
     "output_type": "execute_result"
    }
   ],
   "source": [
    "df['experience'] = df['experience'].replace(np.nan,0)\n",
    "df.isnull().sum()"
   ]
  },
  {
   "cell_type": "markdown",
   "id": "536c30ed",
   "metadata": {},
   "source": [
    "### 3 - Replacing null values in Test score column with mean values"
   ]
  },
  {
   "cell_type": "code",
   "execution_count": 6,
   "id": "99751df9",
   "metadata": {},
   "outputs": [
    {
     "data": {
      "text/html": [
       "<div>\n",
       "<style scoped>\n",
       "    .dataframe tbody tr th:only-of-type {\n",
       "        vertical-align: middle;\n",
       "    }\n",
       "\n",
       "    .dataframe tbody tr th {\n",
       "        vertical-align: top;\n",
       "    }\n",
       "\n",
       "    .dataframe thead th {\n",
       "        text-align: right;\n",
       "    }\n",
       "</style>\n",
       "<table border=\"1\" class=\"dataframe\">\n",
       "  <thead>\n",
       "    <tr style=\"text-align: right;\">\n",
       "      <th></th>\n",
       "      <th>experience</th>\n",
       "      <th>test_score(out of 10)</th>\n",
       "      <th>interview_score(out of 10)</th>\n",
       "      <th>salary($)</th>\n",
       "    </tr>\n",
       "  </thead>\n",
       "  <tbody>\n",
       "    <tr>\n",
       "      <th>0</th>\n",
       "      <td>0</td>\n",
       "      <td>8.0</td>\n",
       "      <td>9</td>\n",
       "      <td>50000</td>\n",
       "    </tr>\n",
       "    <tr>\n",
       "      <th>1</th>\n",
       "      <td>0</td>\n",
       "      <td>8.0</td>\n",
       "      <td>6</td>\n",
       "      <td>45000</td>\n",
       "    </tr>\n",
       "    <tr>\n",
       "      <th>2</th>\n",
       "      <td>five</td>\n",
       "      <td>6.0</td>\n",
       "      <td>7</td>\n",
       "      <td>60000</td>\n",
       "    </tr>\n",
       "    <tr>\n",
       "      <th>3</th>\n",
       "      <td>two</td>\n",
       "      <td>10.0</td>\n",
       "      <td>10</td>\n",
       "      <td>65000</td>\n",
       "    </tr>\n",
       "    <tr>\n",
       "      <th>4</th>\n",
       "      <td>seven</td>\n",
       "      <td>9.0</td>\n",
       "      <td>6</td>\n",
       "      <td>70000</td>\n",
       "    </tr>\n",
       "    <tr>\n",
       "      <th>5</th>\n",
       "      <td>three</td>\n",
       "      <td>7.0</td>\n",
       "      <td>10</td>\n",
       "      <td>62000</td>\n",
       "    </tr>\n",
       "    <tr>\n",
       "      <th>6</th>\n",
       "      <td>ten</td>\n",
       "      <td>7.0</td>\n",
       "      <td>7</td>\n",
       "      <td>72000</td>\n",
       "    </tr>\n",
       "    <tr>\n",
       "      <th>7</th>\n",
       "      <td>eleven</td>\n",
       "      <td>7.0</td>\n",
       "      <td>8</td>\n",
       "      <td>80000</td>\n",
       "    </tr>\n",
       "  </tbody>\n",
       "</table>\n",
       "</div>"
      ],
      "text/plain": [
       "  experience  test_score(out of 10)  interview_score(out of 10)  salary($)\n",
       "0          0                    8.0                           9      50000\n",
       "1          0                    8.0                           6      45000\n",
       "2       five                    6.0                           7      60000\n",
       "3        two                   10.0                          10      65000\n",
       "4      seven                    9.0                           6      70000\n",
       "5      three                    7.0                          10      62000\n",
       "6        ten                    7.0                           7      72000\n",
       "7     eleven                    7.0                           8      80000"
      ]
     },
     "execution_count": 6,
     "metadata": {},
     "output_type": "execute_result"
    }
   ],
   "source": [
    "mean = int(df['test_score(out of 10)'].mean())\n",
    "df['test_score(out of 10)'].fillna(value = mean, inplace=True)\n",
    "df"
   ]
  },
  {
   "cell_type": "markdown",
   "id": "c80d6c4c",
   "metadata": {},
   "source": [
    "### 4 - Scatter plot between Experience and Salary"
   ]
  },
  {
   "cell_type": "markdown",
   "id": "d3561922",
   "metadata": {},
   "source": [
    "Replacing string in experience as numbers so that we can see it in scatter plot"
   ]
  },
  {
   "cell_type": "code",
   "execution_count": 7,
   "id": "86b41913",
   "metadata": {},
   "outputs": [],
   "source": [
    "df['experience'] = df['experience'].replace('five',5)\n",
    "df['experience'] = df['experience'].replace('two',2)\n",
    "df['experience'] = df['experience'].replace('seven',7)\n",
    "df['experience'] = df['experience'].replace('three',3)\n",
    "df['experience'] = df['experience'].replace('ten',10)\n",
    "df['experience'] = df['experience'].replace('eleven',11)"
   ]
  },
  {
   "cell_type": "code",
   "execution_count": 8,
   "id": "401ff07d",
   "metadata": {},
   "outputs": [
    {
     "data": {
      "image/png": "[encoded data removed]",
      "text/plain": [
       "<Figure size 1080x360 with 1 Axes>"
      ]
     },
     "metadata": {
      "needs_background": "light"
     },
     "output_type": "display_data"
    }
   ],
   "source": [
    "plt.figure(figsize= (15,5))\n",
    "x = df['experience']\n",
    "y = df['salary($)']\n",
    "plt.scatter(x , y, c = 'b', marker = '+')\n",
    "plt.title(\"Scatter graph of Salary over Experience\")\n",
    "plt.xlabel(\"Experience\")\n",
    "plt.ylabel(\"Salary\")\n",
    "plt.show()"
   ]
  },
  {
   "cell_type": "markdown",
   "id": "156dc11c",
   "metadata": {},
   "source": [
    "We can observe as the experience increases the salary tends to increase as well"
   ]
  },
  {
   "cell_type": "markdown",
   "id": "f0fb689e",
   "metadata": {},
   "source": [
    "### 5 - Scatter plot between test score vs salary"
   ]
  },
  {
   "cell_type": "code",
   "execution_count": 9,
   "id": "6030f673",
   "metadata": {},
   "outputs": [
    {
     "data": {
      "image/png": "[encoded data removed]",
      "text/plain": [
       "<Figure size 1080x360 with 1 Axes>"
      ]
     },
     "metadata": {
      "needs_background": "light"
     },
     "output_type": "display_data"
    }
   ],
   "source": [
    "plt.figure(figsize=(15,5))\n",
    "plt.title(\"Graph of Salary to Test_score\")\n",
    "y = df['salary($)']\n",
    "x = df['test_score(out of 10)']\n",
    "plt.xlabel(\"Test Score\")\n",
    "plt.ylabel(\"Salary\")\n",
    "plt.scatter(x,y,c='r')\n",
    "plt.show()"
   ]
  },
  {
   "cell_type": "markdown",
   "id": "258a1b80",
   "metadata": {},
   "source": [
    "Higher test score doesnot necessarily mean higher salary it depends on other factors as well"
   ]
  },
  {
   "cell_type": "markdown",
   "id": "c6b555b8",
   "metadata": {},
   "source": [
    "### 6 - Scatter plot Interview score vs Salary"
   ]
  },
  {
   "cell_type": "code",
   "execution_count": 10,
   "id": "7d31aadb",
   "metadata": {},
   "outputs": [
    {
     "data": {
      "image/png": "[encoded data removed]",
      "text/plain": [
       "<Figure size 1080x360 with 1 Axes>"
      ]
     },
     "metadata": {
      "needs_background": "light"
     },
     "output_type": "display_data"
    }
   ],
   "source": [
    "plt.figure(figsize = (15,5))\n",
    "plt.title(\"Graph showing Salary to Interview Score\")\n",
    "plt.xlabel(\"Interview Score\")\n",
    "plt.ylabel(\"Salary\")\n",
    "x = df['interview_score(out of 10)']\n",
    "y = df['salary($)']\n",
    "plt.scatter(x,y,c='c')\n",
    "plt.show()"
   ]
  },
  {
   "cell_type": "markdown",
   "id": "b4692b43",
   "metadata": {},
   "source": [
    "Again we can see that good inteview score need not mean higher salary"
   ]
  },
  {
   "cell_type": "markdown",
   "id": "d535b26c",
   "metadata": {},
   "source": [
    "### 7 - Bar plot for experience"
   ]
  },
  {
   "cell_type": "code",
   "execution_count": 11,
   "id": "342d5dd7",
   "metadata": {},
   "outputs": [
    {
     "data": {
      "image/png": "[encoded data removed]",
      "text/plain": [
       "<Figure size 432x288 with 1 Axes>"
      ]
     },
     "metadata": {
      "needs_background": "light"
     },
     "output_type": "display_data"
    }
   ],
   "source": [
    "sns.countplot(x='experience', data=df);\n",
    "plt.title(\"Experience count\")\n",
    "plt.show()"
   ]
  },
  {
   "cell_type": "markdown",
   "id": "5098d61d",
   "metadata": {},
   "source": [
    "# Part-2 Working with Model"
   ]
  },
  {
   "cell_type": "markdown",
   "id": "4e010eaa",
   "metadata": {},
   "source": [
    "#### 1 - Seperating feature data from target data"
   ]
  },
  {
   "cell_type": "markdown",
   "id": "7e5c9acb",
   "metadata": {},
   "source": [
    "Target is the experience as it seems there is some relation that we can use to prodict but here we will still use all three columns to predict salary"
   ]
  },
  {
   "cell_type": "code",
   "execution_count": 12,
   "id": "5735df93",
   "metadata": {},
   "outputs": [],
   "source": [
    "other = df.drop('salary($)', axis=1)\n",
    "salary = df[['salary($)']]"
   ]
  },
  {
   "cell_type": "markdown",
   "id": "67e645da",
   "metadata": {},
   "source": [
    "#### 2 - Making regression model"
   ]
  },
  {
   "cell_type": "code",
   "execution_count": 13,
   "id": "f346ad04",
   "metadata": {},
   "outputs": [],
   "source": [
    "model = LinearRegression()"
   ]
  },
  {
   "cell_type": "code",
   "execution_count": 14,
   "id": "1e51c8c9",
   "metadata": {},
   "outputs": [
    {
     "data": {
      "text/plain": [
       "LinearRegression()"
      ]
     },
     "execution_count": 14,
     "metadata": {},
     "output_type": "execute_result"
    }
   ],
   "source": [
    "model.fit(other,salary)"
   ]
  },
  {
   "cell_type": "code",
   "execution_count": 15,
   "id": "0d8a8409",
   "metadata": {},
   "outputs": [
    {
     "data": {
      "text/plain": [
       "array([[52090.46734071],\n",
       "       [45648.01964161],\n",
       "       [57964.2290839 ],\n",
       "       [64525.1061363 ],\n",
       "       [68325.21184635],\n",
       "       [60783.44785255],\n",
       "       [74796.8832586 ],\n",
       "       [79866.63483999]])"
      ]
     },
     "execution_count": 15,
     "metadata": {},
     "output_type": "execute_result"
    }
   ],
   "source": [
    "predicted = model.predict(other)\n",
    "predicted"
   ]
  },
  {
   "cell_type": "markdown",
   "id": "4e0203b4",
   "metadata": {},
   "source": [
    "#### 3 - By displaying test, training score as well as experience, we try to predict the salary"
   ]
  },
  {
   "cell_type": "code",
   "execution_count": 16,
   "id": "3c931810",
   "metadata": {
    "scrolled": true
   },
   "outputs": [
    {
     "name": "stderr",
     "output_type": "stream",
     "text": [
      "C:\\ProgramData\\Anaconda3\\lib\\site-packages\\sklearn\\base.py:450: UserWarning: X does not have valid feature names, but LinearRegression was fitted with feature names\n",
      "  warnings.warn(\n"
     ]
    },
    {
     "data": {
      "text/plain": [
       "array([[48451.85930334]])"
      ]
     },
     "execution_count": 16,
     "metadata": {},
     "output_type": "execute_result"
    }
   ],
   "source": [
    "predict1 = model.predict([[4,4,6]])\n",
    "predict1"
   ]
  },
  {
   "cell_type": "code",
   "execution_count": 17,
   "id": "655a7109",
   "metadata": {},
   "outputs": [
    {
     "name": "stderr",
     "output_type": "stream",
     "text": [
      "C:\\ProgramData\\Anaconda3\\lib\\site-packages\\sklearn\\base.py:450: UserWarning: X does not have valid feature names, but LinearRegression was fitted with feature names\n",
      "  warnings.warn(\n"
     ]
    },
    {
     "data": {
      "text/plain": [
       "array([[61602.83712128]])"
      ]
     },
     "execution_count": 17,
     "metadata": {},
     "output_type": "execute_result"
    }
   ],
   "source": [
    "predict2 = model.predict([[1,10,10]])\n",
    "predict2"
   ]
  },
  {
   "cell_type": "markdown",
   "id": "b60e885a",
   "metadata": {},
   "source": [
    "#### 4 - Extracting Slope and Intercept value from the model"
   ]
  },
  {
   "cell_type": "code",
   "execution_count": 18,
   "id": "e1de263a",
   "metadata": {},
   "outputs": [
    {
     "name": "stdout",
     "output_type": "stream",
     "text": [
      "Slope value for the model is:  [[2922.26901502 2221.30909959 2147.48256637]]\n",
      "Intercept value for the model is:  [14992.65144669]\n"
     ]
    }
   ],
   "source": [
    "print(\"Slope value for the model is: \", model.coef_)\n",
    "print(\"Intercept value for the model is: \", model.intercept_)"
   ]
  },
  {
   "cell_type": "code",
   "execution_count": 19,
   "id": "ffa593db",
   "metadata": {},
   "outputs": [
    {
     "data": {
      "text/plain": [
       "48451.85930334999"
      ]
     },
     "execution_count": 19,
     "metadata": {},
     "output_type": "execute_result"
    }
   ],
   "source": [
    "# Checking the value for predict1 i.e 4,4,6\n",
    "# y = m1*1+m2*2+m3*3+b\n",
    "2922.26901502*4 + 2221.30909959*4 + 2147.48256637*6 + 14992.65144669"
   ]
  },
  {
   "cell_type": "markdown",
   "id": "d58b7506",
   "metadata": {},
   "source": [
    "#### 5 - Display Mean Squared Error"
   ]
  },
  {
   "cell_type": "code",
   "execution_count": 20,
   "id": "0f765954",
   "metadata": {},
   "outputs": [
    {
     "name": "stdout",
     "output_type": "stream",
     "text": [
      "Mean Squared Error for the model is:  2660640.9097884092\n"
     ]
    }
   ],
   "source": [
    "from sklearn.metrics import mean_squared_error as mse\n",
    "MSE = mse(salary,predicted)\n",
    "print(\"Mean Squared Error for the model is: \", MSE)"
   ]
  },
  {
   "cell_type": "markdown",
   "id": "3f4ad39d",
   "metadata": {},
   "source": [
    "#### 6 - Display Mean Absolute Error"
   ]
  },
  {
   "cell_type": "code",
   "execution_count": 21,
   "id": "1821d01d",
   "metadata": {},
   "outputs": [
    {
     "name": "stdout",
     "output_type": "stream",
     "text": [
      "Mean Absolute Error for the model is:  1383.8425602291509\n"
     ]
    }
   ],
   "source": [
    "from sklearn.metrics import mean_absolute_error as mae\n",
    "MAE = mae(salary,predicted)\n",
    "print(\"Mean Absolute Error for the model is: \", MAE)"
   ]
  },
  {
   "cell_type": "markdown",
   "id": "02fe306b",
   "metadata": {},
   "source": [
    "#### 7 - Display Root Mean Squared Error"
   ]
  },
  {
   "cell_type": "code",
   "execution_count": 22,
   "id": "88f929ea",
   "metadata": {},
   "outputs": [
    {
     "name": "stdout",
     "output_type": "stream",
     "text": [
      "Root Mean Squared Error for the model is:  1631.1471146982449\n"
     ]
    }
   ],
   "source": [
    "import math\n",
    "RMSE = math.sqrt(MSE)\n",
    "print(\"Root Mean Squared Error for the model is: \", RMSE)"
   ]
  },
  {
   "cell_type": "markdown",
   "id": "4d6680b7",
   "metadata": {},
   "source": [
    "#### 8 - Display the R2 value"
   ]
  },
  {
   "cell_type": "code",
   "execution_count": 23,
   "id": "a4d21231",
   "metadata": {},
   "outputs": [
    {
     "name": "stdout",
     "output_type": "stream",
     "text": [
      "R2 value for the model is:  0.9770139014273139\n"
     ]
    }
   ],
   "source": [
    "r2 = r2_score(salary,predicted)\n",
    "print(\"R2 value for the model is: \", r2)"
   ]
  },
  {
   "cell_type": "markdown",
   "id": "2b8f529e",
   "metadata": {},
   "source": [
    "### Model has around 97% accuracy"
   ]
  }
 ],
 "metadata": {
  "kernelspec": {
   "display_name": "Python 3 (ipykernel)",
   "language": "python",
   "name": "python3"
  },
  "language_info": {
   "codemirror_mode": {
    "name": "ipython",
    "version": 3
   },
   "file_extension": ".py",
   "mimetype": "text/x-python",
   "name": "python",
   "nbconvert_exporter": "python",
   "pygments_lexer": "ipython3",
   "version": "3.9.12"
  }
 },
 "nbformat": 4,
 "nbformat_minor": 5
}
